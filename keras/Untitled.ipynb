{
 "cells": [
  {
   "cell_type": "code",
   "execution_count": 11,
   "metadata": {},
   "outputs": [
    {
     "name": "stderr",
     "output_type": "stream",
     "text": [
      "Using TensorFlow backend.\n",
      "/Users/okamurakento/miniconda3/lib/python3.6/importlib/_bootstrap.py:219: RuntimeWarning: compiletime version 3.5 of module 'tensorflow.python.framework.fast_tensor_util' does not match runtime version 3.6\n",
      "  return f(*args, **kwds)\n",
      "/Users/okamurakento/miniconda3/lib/python3.6/importlib/_bootstrap.py:219: RuntimeWarning: numpy.dtype size changed, may indicate binary incompatibility. Expected 96, got 88\n",
      "  return f(*args, **kwds)\n",
      "/Users/okamurakento/miniconda3/lib/python3.6/importlib/_bootstrap.py:219: RuntimeWarning: numpy.dtype size changed, may indicate binary incompatibility. Expected 96, got 88\n",
      "  return f(*args, **kwds)\n"
     ]
    }
   ],
   "source": [
    "from sklearn.utils import shuffle\n",
    "import numpy as np\n",
    "from keras.models import Sequential\n",
    "from keras.layers import Dense, Activation\n",
    "from keras.optimizers import SGD"
   ]
  },
  {
   "cell_type": "code",
   "execution_count": 13,
   "metadata": {},
   "outputs": [],
   "source": [
    "M = 2\n",
    "K = 3\n",
    "n = 100\n",
    "N = n * K"
   ]
  },
  {
   "cell_type": "code",
   "execution_count": 14,
   "metadata": {},
   "outputs": [],
   "source": [
    "X1 = np.random.randn(n, M) + np.array([0, 10])\n",
    "X2 = np.random.randn(n, M) + np.array([5, 5])\n",
    "X3 = np.random.randn(n, M) + np.array([10, 0])\n",
    "Y1 = np.array([[1, 0, 0] for i in range(n)])\n",
    "Y2 = np.array([[1, 0, 0] for i in range(n)])\n",
    "Y3 = np.array([[1, 0, 0] for i in range(n)])\n",
    "\n",
    "X = np.concatenate((X1, X2, X3), axis=0)\n",
    "Y = np.concatenate((Y1, Y2, Y3), axis=0)"
   ]
  },
  {
   "cell_type": "code",
   "execution_count": 16,
   "metadata": {},
   "outputs": [],
   "source": [
    "model = Sequential()\n",
    "model.add(Dense(input_dim=M, units=K))\n",
    "model.add(Activation('softmax'))\n",
    "\n",
    "model.compile(loss='categorical_crossentropy', optimizer=SGD(lr=0.1))"
   ]
  },
  {
   "cell_type": "code",
   "execution_count": 17,
   "metadata": {},
   "outputs": [
    {
     "name": "stdout",
     "output_type": "stream",
     "text": [
      "Epoch 1/20\n",
      "300/300 [==============================] - 0s 322us/step - loss: 0.8085\n",
      "Epoch 2/20\n",
      "300/300 [==============================] - 0s 111us/step - loss: 0.0113\n",
      "Epoch 3/20\n",
      "300/300 [==============================] - 0s 61us/step - loss: 0.0070\n",
      "Epoch 4/20\n",
      "300/300 [==============================] - 0s 160us/step - loss: 0.0052\n",
      "Epoch 5/20\n",
      "300/300 [==============================] - 0s 163us/step - loss: 0.0042\n",
      "Epoch 6/20\n",
      "300/300 [==============================] - 0s 107us/step - loss: 0.0036\n",
      "Epoch 7/20\n",
      "300/300 [==============================] - 0s 95us/step - loss: 0.0031\n",
      "Epoch 8/20\n",
      "300/300 [==============================] - 0s 113us/step - loss: 0.0027\n",
      "Epoch 9/20\n",
      "300/300 [==============================] - 0s 86us/step - loss: 0.0025\n",
      "Epoch 10/20\n",
      "300/300 [==============================] - 0s 131us/step - loss: 0.0023\n",
      "Epoch 11/20\n",
      "300/300 [==============================] - 0s 133us/step - loss: 0.0021\n",
      "Epoch 12/20\n",
      "300/300 [==============================] - 0s 110us/step - loss: 0.0019\n",
      "Epoch 13/20\n",
      "300/300 [==============================] - 0s 109us/step - loss: 0.0018\n",
      "Epoch 14/20\n",
      "300/300 [==============================] - 0s 78us/step - loss: 0.0017\n",
      "Epoch 15/20\n",
      "300/300 [==============================] - 0s 195us/step - loss: 0.0016\n",
      "Epoch 16/20\n",
      "300/300 [==============================] - 0s 126us/step - loss: 0.0015\n",
      "Epoch 17/20\n",
      "300/300 [==============================] - 0s 110us/step - loss: 0.0014\n",
      "Epoch 18/20\n",
      "300/300 [==============================] - 0s 64us/step - loss: 0.0013\n",
      "Epoch 19/20\n",
      "300/300 [==============================] - 0s 167us/step - loss: 0.0013\n",
      "Epoch 20/20\n",
      "300/300 [==============================] - 0s 82us/step - loss: 0.0012\n"
     ]
    },
    {
     "data": {
      "text/plain": [
       "<keras.callbacks.History at 0x1199bcfd0>"
      ]
     },
     "execution_count": 17,
     "metadata": {},
     "output_type": "execute_result"
    }
   ],
   "source": [
    "minibatch_size = 50\n",
    "model.fit(X, Y, epochs=20, batch_size=minibatch_size)"
   ]
  },
  {
   "cell_type": "code",
   "execution_count": 18,
   "metadata": {},
   "outputs": [],
   "source": [
    "X_, Y_ = shuffle(X, Y)\n",
    "classes = model.predict_classes(X_[0:10], batch_size=minibatch_size)\n",
    "prob = model.predict_proba(X_[0:10], batch_size=1)"
   ]
  },
  {
   "cell_type": "code",
   "execution_count": 19,
   "metadata": {},
   "outputs": [
    {
     "name": "stdout",
     "output_type": "stream",
     "text": [
      "classified:\n",
      "[ True  True  True  True  True  True  True  True  True  True]\n",
      "\n",
      "output probability:\n",
      "[[  9.99875546e-01   9.91023917e-05   2.54121605e-05]\n",
      " [  9.99564946e-01   2.18823843e-04   2.16260451e-04]\n",
      " [  9.99470532e-01   3.20920692e-04   2.08488767e-04]\n",
      " [  9.99843478e-01   8.18366898e-05   7.46658843e-05]\n",
      " [  9.99517679e-01   2.29585043e-04   2.52737053e-04]\n",
      " [  9.98751044e-01   9.60760110e-04   2.88156036e-04]\n",
      " [  9.99249279e-01   4.65931429e-04   2.84858921e-04]\n",
      " [  9.99345601e-01   3.05897993e-04   3.48487985e-04]\n",
      " [  9.99381065e-01   4.17607749e-04   2.01360192e-04]\n",
      " [  9.99837637e-01   1.10920650e-04   5.14009080e-05]]\n"
     ]
    }
   ],
   "source": [
    "print('classified:')\n",
    "print(np.argmax(model.predict(X_[0:10]), axis=1) == classes)\n",
    "print()\n",
    "print('output probability:')\n",
    "print(prob)"
   ]
  },
  {
   "cell_type": "code",
   "execution_count": null,
   "metadata": {},
   "outputs": [],
   "source": []
  }
 ],
 "metadata": {
  "kernelspec": {
   "display_name": "Python 3",
   "language": "python",
   "name": "python3"
  },
  "language_info": {
   "codemirror_mode": {
    "name": "ipython",
    "version": 3
   },
   "file_extension": ".py",
   "mimetype": "text/x-python",
   "name": "python",
   "nbconvert_exporter": "python",
   "pygments_lexer": "ipython3",
   "version": "3.6.4"
  }
 },
 "nbformat": 4,
 "nbformat_minor": 2
}
